{
 "cells": [
  {
   "cell_type": "markdown",
   "id": "8fccc800",
   "metadata": {},
   "source": [
    "# Hamming Window"
   ]
  },
  {
   "cell_type": "markdown",
   "id": "aa9066d2",
   "metadata": {},
   "source": [
    "The Hamming window is a commonly used technique in digital signal processing, particularly in the field of audio and speech processing. It is a type of window function that is applied to a signal before performing spectral analysis using techniques like the Fourier Transform."
   ]
  },
  {
   "cell_type": "markdown",
   "id": "7fbe0439",
   "metadata": {},
   "source": [
    "The Hamming window is designed to reduce the spectral leakage effect that occurs when a signal is divided into shorter segments for analysis. Spectral leakage happens because the abrupt cutoff of a signal at the edges of a window introduces unwanted frequency components in the frequency domain representation."
   ]
  },
  {
   "cell_type": "markdown",
   "id": "0e84a51b",
   "metadata": {},
   "source": [
    "## Formula"
   ]
  },
  {
   "cell_type": "markdown",
   "id": "ebe0146b",
   "metadata": {},
   "source": [
    "$w(n) = 0.54 - 0.46 * cos(2 * π * n / (N - 1))$"
   ]
  },
  {
   "cell_type": "markdown",
   "id": "e5cfd148",
   "metadata": {},
   "source": [
    "- w(n) is the value of the window at sample index n.\n",
    "- N is the total number of samples in the window."
   ]
  },
  {
   "cell_type": "markdown",
   "id": "9b7ad62a",
   "metadata": {},
   "source": [
    "The Hamming window is a symmetric window, meaning it is symmetric around its midpoint. It tapers the signal smoothly from the center towards the edges, reducing the spectral leakage effect."
   ]
  },
  {
   "cell_type": "markdown",
   "id": "18941d46",
   "metadata": {},
   "source": [
    "By applying the Hamming window to a signal, we effectively reduce the intensity of the signal near the edges, minimizing the impact of spectral leakage during spectral analysis. This helps to improve the accuracy of frequency domain representations, such as those obtained through the Fourier Transform or the Short-Time Fourier Transform (STFT)."
   ]
  },
  {
   "cell_type": "markdown",
   "id": "69a20c4b",
   "metadata": {},
   "source": [
    "## Implementation"
   ]
  },
  {
   "cell_type": "code",
   "execution_count": 5,
   "id": "92214b30",
   "metadata": {},
   "outputs": [],
   "source": [
    "import numpy as np\n",
    "\n",
    "window_length = 512\n",
    "hamming_window = np.hamming(window_length)"
   ]
  },
  {
   "cell_type": "markdown",
   "id": "fde78d81",
   "metadata": {},
   "source": [
    "The resulting hamming_window array can then be multiplied element-wise with the original signal to apply the Hamming window before performing spectral analysis.\n",
    "\n",
    "By applying the Hamming window, you can mitigate the spectral leakage effect and obtain more accurate frequency domain representations, leading to improved analysis and processing of audio and speech signals."
   ]
  },
  {
   "cell_type": "markdown",
   "id": "67ec655c",
   "metadata": {},
   "source": [
    "## Visualization"
   ]
  },
  {
   "cell_type": "code",
   "execution_count": 6,
   "id": "15895cc3",
   "metadata": {},
   "outputs": [
    {
     "data": {
      "image/png": "[encoded data removed]",
      "text/plain": [
       "<Figure size 432x288 with 1 Axes>"
      ]
     },
     "metadata": {
      "needs_background": "light"
     },
     "output_type": "display_data"
    }
   ],
   "source": [
    "import matplotlib.pyplot as plt\n",
    "\n",
    "plt.plot(hamming_window)\n",
    "plt.title(\"Hamming Window\")\n",
    "plt.xlabel(\"Sample\")\n",
    "plt.ylabel(\"Amplitude\")\n",
    "plt.grid(True)\n",
    "plt.show()"
   ]
  },
  {
   "cell_type": "markdown",
   "id": "858988d1",
   "metadata": {},
   "source": [
    "## Applications"
   ]
  },
  {
   "cell_type": "markdown",
   "id": "096981f7",
   "metadata": {},
   "source": [
    "- `Spectral Analysis`: The Hamming window is commonly used in spectral analysis techniques, such as the Fourier Transform or the Short-Time Fourier Transform (STFT). It reduces spectral leakage by tapering the signal at the edges of the window, resulting in more accurate frequency domain representations."
   ]
  },
  {
   "cell_type": "markdown",
   "id": "fbffaa29",
   "metadata": {},
   "source": [
    "- `Audio Processing`: The Hamming window is widely used in audio processing applications, such as audio compression, equalization, and filtering. It helps to mitigate spectral leakage effects and improve the accuracy of frequency domain processing operations."
   ]
  },
  {
   "cell_type": "markdown",
   "id": "10aa09a7",
   "metadata": {},
   "source": [
    "- `Speech Processing`: In speech processing, the Hamming window is employed in tasks like speech recognition, speech synthesis, and speaker identification. It aids in the extraction of relevant features from speech signals by reducing spectral leakage and improving the precision of frequency domain analysis."
   ]
  },
  {
   "cell_type": "markdown",
   "id": "92df74a9",
   "metadata": {},
   "source": [
    "- `Time-Frequency Analysis`: The Hamming window is used in time-frequency analysis methods, such as the spectrogram and the continuous wavelet transform. It allows for a more precise analysis of the time-varying frequency content of signals by reducing spectral leakage and providing better time-frequency localization."
   ]
  },
  {
   "cell_type": "markdown",
   "id": "ed669f53",
   "metadata": {},
   "source": [
    "- `Filter Design`: When designing digital filters, the Hamming window is often used to create finite impulse response (FIR) filters. It helps shape the frequency response of the filter, allowing for control over parameters like passband ripple and stopband attenuation."
   ]
  },
  {
   "cell_type": "markdown",
   "id": "7428084c",
   "metadata": {},
   "source": [
    "- `Signal Reconstruction`: The Hamming window is utilized in signal reconstruction techniques, such as windowed overlap-add (WOLA) methods. It aids in combining overlapping segments of a signal to reconstruct the original signal accurately, particularly in applications like audio resampling or time-stretching."
   ]
  },
  {
   "cell_type": "markdown",
   "id": "20741c9d",
   "metadata": {},
   "source": [
    "- `Frequency Domain Processing`: In various frequency domain processing tasks, such as audio effects or audio synthesis, the Hamming window can be applied to the signal before performing operations like spectral modification, convolution, or frequency domain filtering. It helps mitigate artifacts caused by spectral leakage and enhances the quality of the processed signal."
   ]
  },
  {
   "cell_type": "markdown",
   "id": "f591038c",
   "metadata": {},
   "source": [
    "## Related WIndows Functions"
   ]
  },
  {
   "cell_type": "markdown",
   "id": "5f72cb51",
   "metadata": {},
   "source": [
    "there are several other windowing techniques that are commonly used in digital signal processing. These window functions serve similar purposes to the Hamming window by reducing spectral leakage and improving the accuracy of frequency domain analysis."
   ]
  },
  {
   "cell_type": "markdown",
   "id": "71dd849a",
   "metadata": {},
   "source": [
    "- `Rectangular Window`: The rectangular window is the simplest window function, where all samples within the window have equal weight. It has a rectangular shape and does not taper the signal at the edges. While it does not reduce spectral leakage, it is sometimes used in specific applications where sharp cutoffs are desired."
   ]
  },
  {
   "cell_type": "markdown",
   "id": "001c9a57",
   "metadata": {},
   "source": [
    "- `Hann Window`: The Hann window, also known as the Hanning window, is another popular window function. It tapers the signal smoothly from the center towards the edges, similar to the Hamming window. However, the Hann window has a slightly different shape, with a more gradual tapering compared to the Hamming window."
   ]
  },
  {
   "cell_type": "markdown",
   "id": "61fa0c60",
   "metadata": {},
   "source": [
    "- `Blackman Window`: The Blackman window is designed to provide better suppression of side lobes in the frequency domain. It has a more complex shape with a larger tapering factor at the edges compared to the Hamming and Hann windows. The Blackman window offers improved frequency resolution but at the cost of wider main lobes."
   ]
  },
  {
   "cell_type": "markdown",
   "id": "5f2ca1fc",
   "metadata": {},
   "source": [
    "- `Kaiser Window`: The Kaiser window is a versatile window function that allows for adjustable control over the trade-off between spectral leakage and main lobe width. It is parameterized by a shape parameter that can be adjusted to achieve different characteristics. The Kaiser window is often used in applications where fine control over the frequency response is required."
   ]
  },
  {
   "cell_type": "code",
   "execution_count": null,
   "id": "2b5edf29",
   "metadata": {},
   "outputs": [],
   "source": []
  }
 ],
 "metadata": {
  "kernelspec": {
   "display_name": "Python 3 (ipykernel)",
   "language": "python",
   "name": "python3"
  },
  "language_info": {
   "codemirror_mode": {
    "name": "ipython",
    "version": 3
   },
   "file_extension": ".py",
   "mimetype": "text/x-python",
   "name": "python",
   "nbconvert_exporter": "python",
   "pygments_lexer": "ipython3",
   "version": "3.9.7"
  }
 },
 "nbformat": 4,
 "nbformat_minor": 5
}
